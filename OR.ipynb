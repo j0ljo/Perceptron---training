{
 "cells": [
  {
   "cell_type": "code",
   "execution_count": 1,
   "id": "2b3a2a74",
   "metadata": {},
   "outputs": [],
   "source": [
    "# Training data for AND gate\n",
    "\n",
    "X = [\n",
    "    [0, 0],\n",
    "    [0, 1],\n",
    "    [1, 0],\n",
    "    [1, 1],\n",
    "]\n",
    "\n",
    "# Using -1 as False and 1 as True\n",
    "\n",
    "Y = [-1, 1, 1, 1] # AND outputs\n",
    "\n"
   ]
  },
  {
   "cell_type": "code",
   "execution_count": 2,
   "id": "cc46944c",
   "metadata": {},
   "outputs": [],
   "source": [
    "def sign(z):\n",
    "    return 1 if z >= 0 else -1\n",
    "\n",
    "def dot(w, x):\n",
    "    return sum(wi * xi for wi, xi in zip(w, x))\n",
    "\n",
    "def perceptron_train(X, Y, lr=1.0, epochs=10):\n",
    "    w = [0.0] * len(X[0])  # 2 weights for 2 inputs\n",
    "    b = 0.0\n",
    "    for epoch in range(epochs):\n",
    "        print(f\"\\nEpoch {epoch+1}\")\n",
    "        for x, y in zip(X, Y):\n",
    "            z = dot(w, x) + b\n",
    "            pred = sign(z)\n",
    "            if pred != y:\n",
    "                w = [wi + lr * y * xi for wi, xi in zip(w, x)]\n",
    "                b += lr * y\n",
    "            print(f\"x: {x}, y: {y}, pred: {pred}, w: {w}, b: {b}\")\n",
    "    return w, b\n",
    "\n",
    "def predict(x, w, b):\n",
    "    return sign(dot(w, x) + b)\n"
   ]
  },
  {
   "cell_type": "code",
   "execution_count": 3,
   "id": "2df443d2",
   "metadata": {},
   "outputs": [
    {
     "name": "stdout",
     "output_type": "stream",
     "text": [
      "\n",
      "Epoch 1\n",
      "x: [0, 0], y: -1, pred: 1, w: [0.0, 0.0], b: -1.0\n",
      "x: [0, 1], y: 1, pred: -1, w: [0.0, 1.0], b: 0.0\n",
      "x: [1, 0], y: 1, pred: 1, w: [0.0, 1.0], b: 0.0\n",
      "x: [1, 1], y: 1, pred: 1, w: [0.0, 1.0], b: 0.0\n",
      "\n",
      "Epoch 2\n",
      "x: [0, 0], y: -1, pred: 1, w: [0.0, 1.0], b: -1.0\n",
      "x: [0, 1], y: 1, pred: 1, w: [0.0, 1.0], b: -1.0\n",
      "x: [1, 0], y: 1, pred: -1, w: [1.0, 1.0], b: 0.0\n",
      "x: [1, 1], y: 1, pred: 1, w: [1.0, 1.0], b: 0.0\n",
      "\n",
      "Epoch 3\n",
      "x: [0, 0], y: -1, pred: 1, w: [1.0, 1.0], b: -1.0\n",
      "x: [0, 1], y: 1, pred: 1, w: [1.0, 1.0], b: -1.0\n",
      "x: [1, 0], y: 1, pred: 1, w: [1.0, 1.0], b: -1.0\n",
      "x: [1, 1], y: 1, pred: 1, w: [1.0, 1.0], b: -1.0\n",
      "\n",
      "Epoch 4\n",
      "x: [0, 0], y: -1, pred: -1, w: [1.0, 1.0], b: -1.0\n",
      "x: [0, 1], y: 1, pred: 1, w: [1.0, 1.0], b: -1.0\n",
      "x: [1, 0], y: 1, pred: 1, w: [1.0, 1.0], b: -1.0\n",
      "x: [1, 1], y: 1, pred: 1, w: [1.0, 1.0], b: -1.0\n",
      "\n",
      "Epoch 5\n",
      "x: [0, 0], y: -1, pred: -1, w: [1.0, 1.0], b: -1.0\n",
      "x: [0, 1], y: 1, pred: 1, w: [1.0, 1.0], b: -1.0\n",
      "x: [1, 0], y: 1, pred: 1, w: [1.0, 1.0], b: -1.0\n",
      "x: [1, 1], y: 1, pred: 1, w: [1.0, 1.0], b: -1.0\n",
      "\n",
      "Epoch 6\n",
      "x: [0, 0], y: -1, pred: -1, w: [1.0, 1.0], b: -1.0\n",
      "x: [0, 1], y: 1, pred: 1, w: [1.0, 1.0], b: -1.0\n",
      "x: [1, 0], y: 1, pred: 1, w: [1.0, 1.0], b: -1.0\n",
      "x: [1, 1], y: 1, pred: 1, w: [1.0, 1.0], b: -1.0\n",
      "\n",
      "Epoch 7\n",
      "x: [0, 0], y: -1, pred: -1, w: [1.0, 1.0], b: -1.0\n",
      "x: [0, 1], y: 1, pred: 1, w: [1.0, 1.0], b: -1.0\n",
      "x: [1, 0], y: 1, pred: 1, w: [1.0, 1.0], b: -1.0\n",
      "x: [1, 1], y: 1, pred: 1, w: [1.0, 1.0], b: -1.0\n",
      "\n",
      "Epoch 8\n",
      "x: [0, 0], y: -1, pred: -1, w: [1.0, 1.0], b: -1.0\n",
      "x: [0, 1], y: 1, pred: 1, w: [1.0, 1.0], b: -1.0\n",
      "x: [1, 0], y: 1, pred: 1, w: [1.0, 1.0], b: -1.0\n",
      "x: [1, 1], y: 1, pred: 1, w: [1.0, 1.0], b: -1.0\n",
      "\n",
      "Epoch 9\n",
      "x: [0, 0], y: -1, pred: -1, w: [1.0, 1.0], b: -1.0\n",
      "x: [0, 1], y: 1, pred: 1, w: [1.0, 1.0], b: -1.0\n",
      "x: [1, 0], y: 1, pred: 1, w: [1.0, 1.0], b: -1.0\n",
      "x: [1, 1], y: 1, pred: 1, w: [1.0, 1.0], b: -1.0\n",
      "\n",
      "Epoch 10\n",
      "x: [0, 0], y: -1, pred: -1, w: [1.0, 1.0], b: -1.0\n",
      "x: [0, 1], y: 1, pred: 1, w: [1.0, 1.0], b: -1.0\n",
      "x: [1, 0], y: 1, pred: 1, w: [1.0, 1.0], b: -1.0\n",
      "x: [1, 1], y: 1, pred: 1, w: [1.0, 1.0], b: -1.0\n"
     ]
    }
   ],
   "source": [
    "# Train\n",
    "w, b = perceptron_train(X, Y)"
   ]
  },
  {
   "cell_type": "code",
   "execution_count": 4,
   "id": "24bb9aa8",
   "metadata": {},
   "outputs": [
    {
     "name": "stdout",
     "output_type": "stream",
     "text": [
      "\n",
      "--- Final Predictions ---\n",
      "[0, 0] → -1\n",
      "[0, 1] → 1\n",
      "[1, 0] → 1\n",
      "[1, 1] → 1\n"
     ]
    }
   ],
   "source": [
    "# Test\n",
    "print(\"\\n--- Final Predictions ---\")\n",
    "for x in X:\n",
    "    print(f\"{x} → {predict(x, w, b)}\")"
   ]
  },
  {
   "cell_type": "code",
   "execution_count": null,
   "id": "10044291",
   "metadata": {},
   "outputs": [],
   "source": []
  }
 ],
 "metadata": {
  "kernelspec": {
   "display_name": "Python 3",
   "language": "python",
   "name": "python3"
  },
  "language_info": {
   "codemirror_mode": {
    "name": "ipython",
    "version": 3
   },
   "file_extension": ".py",
   "mimetype": "text/x-python",
   "name": "python",
   "nbconvert_exporter": "python",
   "pygments_lexer": "ipython3",
   "version": "3.12.10"
  }
 },
 "nbformat": 4,
 "nbformat_minor": 5
}
